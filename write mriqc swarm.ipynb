{
 "cells": [
  {
   "cell_type": "code",
   "execution_count": 1,
   "metadata": {},
   "outputs": [],
   "source": [
    "from pathlib import Path"
   ]
  },
  {
   "cell_type": "code",
   "execution_count": 34,
   "metadata": {},
   "outputs": [],
   "source": [
    "mbdu_bids_root = Path('/data/MBDU/ABCD/BIDS/NKI_script/MID')\n",
    "dsst_bids_root = Path('/data/ABCD_DSST/bids_20190215/')\n",
    "mriqc_outdir = Path('/data/ABCD_DSST/bids_20190215/derivatives/mriqc')\n",
    "container_path = Path('/data/ABCD_DSST/containers/poldracklab_mriqc-2018-08-21-8efddd374773.simg')\n",
    "swarm_file = Path('/data/ABCD_DSST/swarms/mriqc_swarm/mriqc_swarm')\n",
    "swarm_log = Path('/data/ABCD_DSST/swarms/mriqc_swarm/logs')"
   ]
  },
  {
   "cell_type": "code",
   "execution_count": 40,
   "metadata": {},
   "outputs": [],
   "source": [
    "# make sure that there aren't any subjects \n",
    "# in DSST bids root that aren't in MBDU bids root\n",
    "\n",
    "mbdu_subs = sorted(list(mbdu_bids_root.glob('sub-*')))\n",
    "mbdu_subs = set([ss.parts[-1] for ss in mbdu_subs])\n",
    "dsst_subs = sorted(list(dsst_bids_root.glob('sub-*')))\n",
    "dsst_subs = set([ss.parts[-1] for ss in dsst_subs])\n",
    "\n",
    "print(f\"{len(dsst_subs.difference(mbdu_subs))} are in DSST that aren't in MBDU\")\n",
    "if len(dsst_subs.difference(mbdu_subs)) > 0:\n",
    "    for ss in dsst_subs.difference(mbdu_subs):\n",
    "        assert ss != ''\n",
    "        ! rm -rf {dsst_bids_root / ss}\n",
    "    \n",
    "mbdu_subs = sorted(list(mbdu_bids_root.glob('sub-*')))\n",
    "mbdu_subs = set([ss.parts[-1] for ss in mbdu_subs])\n",
    "dsst_subs = sorted(list(dsst_bids_root.glob('sub-*')))\n",
    "dsst_subs = set([ss.parts[-1] for ss in dsst_subs])\n",
    "assert len(dsst_subs.difference(mbdu_subs)) == 0"
   ]
  },
  {
   "cell_type": "code",
   "execution_count": 54,
   "metadata": {},
   "outputs": [],
   "source": [
    "subs = sorted(list(dsst_bids_root.glob('sub-*')))"
   ]
  },
  {
   "cell_type": "code",
   "execution_count": 55,
   "metadata": {},
   "outputs": [],
   "source": [
    "bad_subs = []\n",
    "for sub in subs:\n",
    "    tmp = (sub / 'tmp')\n",
    "    rest = (sub / 'ses-1' / 'rest')\n",
    "    if (tmp.exists()) & (rest.exists()):\n",
    "        bad_subs.append(sub)\n",
    "        \n",
    "# make sure no subjects have the tmp or rest directories\n",
    "assert len(bad_subs) == 0"
   ]
  },
  {
   "cell_type": "code",
   "execution_count": 23,
   "metadata": {},
   "outputs": [],
   "source": [
    "# If you don't already have your singularity bind path set,\n",
    "# append this to the front of your command:\n",
    "# export SINGULARITY_BINDPATH=/gs3,/gs4,/gs5,/gs6,/gs7,/gs8,/gs9,/gs10,/gs11,/spin1,/scratch,/fdb,/data,/lscratch &&"
   ]
  },
  {
   "cell_type": "code",
   "execution_count": 57,
   "metadata": {},
   "outputs": [],
   "source": [
    "cmds = []\n",
    "for sub in subs:\n",
    "    participant_label = sub.parts[-1].split('-')[-1]\n",
    "    cmd = (f'singularity run {container_path} --partipant_label {participant_label}' \n",
    "           + f' {dsst_bids_root} {mriqc_outdir} participant')\n",
    "    cmds.append(cmd)"
   ]
  },
  {
   "cell_type": "code",
   "execution_count": 58,
   "metadata": {},
   "outputs": [
    {
     "data": {
      "text/plain": [
       "8985"
      ]
     },
     "execution_count": 58,
     "metadata": {},
     "output_type": "execute_result"
    }
   ],
   "source": [
    "len(cmds)"
   ]
  },
  {
   "cell_type": "code",
   "execution_count": 60,
   "metadata": {},
   "outputs": [
    {
     "data": {
      "text/plain": [
       "['singularity run /data/ABCD_DSST/containers/poldracklab_mriqc-2018-08-21-8efddd374773.simg --partipant_label NDARINV005V6D2C /data/ABCD_DSST/bids_20190215 /data/ABCD_DSST/bids_20190215/derivatives/mriqc participant',\n",
       " 'singularity run /data/ABCD_DSST/containers/poldracklab_mriqc-2018-08-21-8efddd374773.simg --partipant_label NDARINV007W6H7B /data/ABCD_DSST/bids_20190215 /data/ABCD_DSST/bids_20190215/derivatives/mriqc participant']"
      ]
     },
     "execution_count": 60,
     "metadata": {},
     "output_type": "execute_result"
    }
   ],
   "source": [
    "# test swarm command with two subjects\n",
    "swarm_file.write_text('\\n'.join(cmds[:2]))\n",
    "swarm_file.read_text().split('\\n')"
   ]
  },
  {
   "cell_type": "code",
   "execution_count": 61,
   "metadata": {},
   "outputs": [
    {
     "name": "stdout",
     "output_type": "stream",
     "text": [
      "20591660\r\n"
     ]
    }
   ],
   "source": [
    "# Submitting a test\n",
    "!swarm -f {swarm_file} -g 24 -t 14 --partition norm,quick --logdir {swarm_log} --time 04:00:00"
   ]
  },
  {
   "cell_type": "code",
   "execution_count": 42,
   "metadata": {},
   "outputs": [
    {
     "data": {
      "text/plain": [
       "5099"
      ]
     },
     "execution_count": 42,
     "metadata": {},
     "output_type": "execute_result"
    }
   ],
   "source": [
    "rsync_swarm_file.write_text('\\n'.join(cmds[100:]))\n",
    "len(rsync_swarm_file.read_text().split('\\n'))"
   ]
  },
  {
   "cell_type": "code",
   "execution_count": 43,
   "metadata": {},
   "outputs": [
    {
     "name": "stdout",
     "output_type": "stream",
     "text": [
      "20463478\r\n"
     ]
    }
   ],
   "source": [
    "# Submitting for real\n",
    "!swarm -f {rsync_swarm_file} -g 5 -t 2 -b 24 --partition norm,quick --logdir {rsync_swarm_log} --time 00:10:00"
   ]
  },
  {
   "cell_type": "code",
   "execution_count": 52,
   "metadata": {},
   "outputs": [],
   "source": [
    "# check to see how many new subs are done\n",
    "cmds = []\n",
    "for sub in subs:\n",
    "    tmp = (sub / 'tmp')\n",
    "    rest = (sub / 'ses-1' / 'rest')\n",
    "    dest = (dsst_bids_root / sub.parts[-1])\n",
    "    if (not tmp.exists()) & (not rest.exists()) & (not dest.exists()):\n",
    "        cmd = f'rsync -ach {sub} {dsst_bids_root}/'\n",
    "        cmds.append(cmd)"
   ]
  },
  {
   "cell_type": "code",
   "execution_count": 55,
   "metadata": {},
   "outputs": [
    {
     "data": {
      "text/plain": [
       "2646"
      ]
     },
     "execution_count": 55,
     "metadata": {},
     "output_type": "execute_result"
    }
   ],
   "source": [
    "rsync_swarm_file.write_text('\\n'.join(cmds))\n",
    "len(rsync_swarm_file.read_text().split('\\n'))\n"
   ]
  },
  {
   "cell_type": "code",
   "execution_count": 56,
   "metadata": {},
   "outputs": [
    {
     "name": "stdout",
     "output_type": "stream",
     "text": [
      "20500070\r\n"
     ]
    }
   ],
   "source": [
    "# Submitting \n",
    "!swarm -f {rsync_swarm_file} -g 5 -t 2 -b 24 --partition norm,quick --logdir {rsync_swarm_log} --time 00:10:00"
   ]
  },
  {
   "cell_type": "code",
   "execution_count": 57,
   "metadata": {},
   "outputs": [],
   "source": [
    "# check to see how many new subs are done\n",
    "cmds = []\n",
    "for sub in subs:\n",
    "    tmp = (sub / 'tmp')\n",
    "    rest = (sub / 'ses-1' / 'rest')\n",
    "    dest = (dsst_bids_root / sub.parts[-1])\n",
    "    if (not tmp.exists()) & (not rest.exists()) & (not dest.exists()):\n",
    "        cmd = f'rsync -ach {sub} {dsst_bids_root}/'\n",
    "        cmds.append(cmd)"
   ]
  },
  {
   "cell_type": "code",
   "execution_count": 58,
   "metadata": {},
   "outputs": [
    {
     "data": {
      "text/plain": [
       "44"
      ]
     },
     "execution_count": 58,
     "metadata": {},
     "output_type": "execute_result"
    }
   ],
   "source": [
    "rsync_swarm_file.write_text('\\n'.join(cmds))\n",
    "len(rsync_swarm_file.read_text().split('\\n'))"
   ]
  },
  {
   "cell_type": "code",
   "execution_count": 59,
   "metadata": {},
   "outputs": [
    {
     "name": "stdout",
     "output_type": "stream",
     "text": [
      "20544480\r\n"
     ]
    }
   ],
   "source": [
    "# Submitting \n",
    "!swarm -f {rsync_swarm_file} -g 5 -t 2 -b 24 --partition norm,quick --logdir {rsync_swarm_log} --time 00:10:00"
   ]
  },
  {
   "cell_type": "code",
   "execution_count": 8,
   "metadata": {},
   "outputs": [],
   "source": [
    "subs = sorted(list(mbdu_bids_root.glob('sub-*')))\n",
    "\n",
    "# check to see how many new subs are done\n",
    "cmds = []\n",
    "for sub in subs:\n",
    "    tmp = (sub / 'tmp')\n",
    "    rest = (sub / 'ses-1' / 'rest')\n",
    "    dest = (dsst_bids_root / sub.parts[-1])\n",
    "    if (not tmp.exists()) & (not rest.exists()) & (not dest.exists()):\n",
    "        cmd = f'rsync -ach {sub} {dsst_bids_root}/'\n",
    "        cmds.append(cmd)"
   ]
  },
  {
   "cell_type": "code",
   "execution_count": 12,
   "metadata": {},
   "outputs": [
    {
     "data": {
      "text/plain": [
       "1284"
      ]
     },
     "execution_count": 12,
     "metadata": {},
     "output_type": "execute_result"
    }
   ],
   "source": [
    "rsync_swarm_file.write_text('\\n'.join(cmds))\n",
    "len(rsync_swarm_file.read_text().split('\\n'))"
   ]
  },
  {
   "cell_type": "code",
   "execution_count": 13,
   "metadata": {},
   "outputs": [
    {
     "name": "stdout",
     "output_type": "stream",
     "text": [
      "20590619\r\n"
     ]
    }
   ],
   "source": [
    "!swarm -f {rsync_swarm_file} -g 5 -t 2 -b 24 --partition norm,quick --logdir {rsync_swarm_log} --time 00:10:00"
   ]
  },
  {
   "cell_type": "code",
   "execution_count": null,
   "metadata": {},
   "outputs": [],
   "source": []
  }
 ],
 "metadata": {
  "kernelspec": {
   "display_name": "Python 3",
   "language": "python",
   "name": "python3"
  },
  "language_info": {
   "codemirror_mode": {
    "name": "ipython",
    "version": 3
   },
   "file_extension": ".py",
   "mimetype": "text/x-python",
   "name": "python",
   "nbconvert_exporter": "python",
   "pygments_lexer": "ipython3",
   "version": "3.7.2"
  }
 },
 "nbformat": 4,
 "nbformat_minor": 2
}
