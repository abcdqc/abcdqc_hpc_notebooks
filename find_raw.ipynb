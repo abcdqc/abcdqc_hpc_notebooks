{
 "cells": [
  {
   "cell_type": "code",
   "execution_count": 2,
   "metadata": {},
   "outputs": [],
   "source": [
    "from pathlib import Path\n",
    "import pandas as pd"
   ]
  },
  {
   "cell_type": "code",
   "execution_count": 9,
   "metadata": {},
   "outputs": [],
   "source": [
    "mbdu_bids_root = Path('/data/MBDU/ABCD/BIDS/NKI_script/MID')\n",
    "dsst_bids_root = Path('/data/ABCD_DSST/bids_20190215/')\n",
    "mbdu_raw_root = Path('/data/MBDU/ABCDraw')\n",
    "mriqc_outdir = Path('/data/ABCD_DSST/bids_20190215/derivatives/mriqc')\n",
    "\n",
    "rsync_script = Path('raw_rsync.sh')"
   ]
  },
  {
   "cell_type": "code",
   "execution_count": 4,
   "metadata": {},
   "outputs": [],
   "source": [
    "dsst_subs = sorted(list(dsst_bids_root.glob('sub-*')))\n",
    "dsst_pls = set([ss.parts[-1][4:] for ss in dsst_subs])\n",
    "dsst_subs = set([ss.parts[-1] for ss in dsst_subs])"
   ]
  },
  {
   "cell_type": "code",
   "execution_count": 10,
   "metadata": {},
   "outputs": [],
   "source": [
    "# Get a list of all the jsons that have been produced by MRIQC\n",
    "jsons = sorted(list(mriqc_outdir.glob('**/*.json')))\n",
    "\n",
    "json_df = []\n",
    "for sub_json in jsons:\n",
    "    row = {}\n",
    "    row['scan_name'] = sub_json.parts[-1].split('.')[0]\n",
    "    row['path'] = sub_json\n",
    "    json_df.append(row)\n",
    "json_df = pd.DataFrame(json_df)"
   ]
  },
  {
   "cell_type": "code",
   "execution_count": 12,
   "metadata": {},
   "outputs": [],
   "source": [
    "json_df['pl'] = json_df.scan_name.str.split('_').str[0].str.split('-').str[-1]"
   ]
  },
  {
   "cell_type": "code",
   "execution_count": 5,
   "metadata": {},
   "outputs": [],
   "source": [
    "mbdu_raw_subs = sorted(list((mbdu_raw_root / 'T1').glob('*.tgz')))"
   ]
  },
  {
   "cell_type": "code",
   "execution_count": 6,
   "metadata": {},
   "outputs": [],
   "source": [
    "mbdu_raw_pls = set([ss.parts[-1].split('_')[0] for ss in mbdu_raw_subs])"
   ]
  },
  {
   "cell_type": "code",
   "execution_count": 7,
   "metadata": {},
   "outputs": [],
   "source": [
    "no_bids = mbdu_raw_pls.difference(dsst_pls)"
   ]
  },
  {
   "cell_type": "code",
   "execution_count": 26,
   "metadata": {},
   "outputs": [],
   "source": [
    "cmds = ['#! /bin/bash']\n",
    "for nb in no_bids:\n",
    "    cmds.append(f'rsync -achR {mbdu_raw_root}/./*/{nb}*.tgz abcdqc_backend_user:/abcdqc_data/ABCDraw/')\n",
    "for nb in json_df.pl.values[:100]:\n",
    "    cmds.append(f'rsync -achR {mbdu_raw_root}/./*/{nb}*.tgz abcdqc_backend_user:/abcdqc_data/ABCDraw/')\n",
    "cmds.append('')"
   ]
  },
  {
   "cell_type": "code",
   "execution_count": 27,
   "metadata": {},
   "outputs": [
    {
     "data": {
      "text/plain": [
       "33823"
      ]
     },
     "execution_count": 27,
     "metadata": {},
     "output_type": "execute_result"
    }
   ],
   "source": [
    "rsync_script.write_text('\\n'.join(cmds))"
   ]
  },
  {
   "cell_type": "code",
   "execution_count": null,
   "metadata": {},
   "outputs": [],
   "source": []
  }
 ],
 "metadata": {
  "kernelspec": {
   "display_name": "Python 3",
   "language": "python",
   "name": "python3"
  },
  "language_info": {
   "codemirror_mode": {
    "name": "ipython",
    "version": 3
   },
   "file_extension": ".py",
   "mimetype": "text/x-python",
   "name": "python",
   "nbconvert_exporter": "python",
   "pygments_lexer": "ipython3",
   "version": "3.7.2"
  }
 },
 "nbformat": 4,
 "nbformat_minor": 2
}
